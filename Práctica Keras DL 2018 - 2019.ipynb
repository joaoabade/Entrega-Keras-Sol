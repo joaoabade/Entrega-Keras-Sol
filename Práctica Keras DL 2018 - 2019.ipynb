{
 "cells": [
  {
   "cell_type": "markdown",
   "metadata": {},
   "source": [
    "# TMO 2018-2019: Práctica de Deep Learning\n",
    "\n",
    "\n",
    "### Datos de lo alumnos:\n",
    " - **Daniel Calderón**\n",
    " - **Guillermo Iglesias García**\n",
    " - **Alexandre Novo**\n",
    " - **Francisco Vilches**\n",
    "\n",
    " \n",
    "### HONESTIDAD ACADÉMICA Y POlÍTICA DE COPIAS/PLAGIO: \n",
    "La realización de los ejercicios serán realizadas en grupos de 3 ó 4 alumnos. Cada grupo deberá entregar una solución indicando arriba la lista de alumnos que componen el grupo. La discusión y el intercambio de información de carácter general con otros grupos se permite (e incluso se recomienda), pero NO AL NIVEL DE CÓDIGO. Igualmente el remitir código de terceros, obtenido a través de la red o cualquier otro medio, sin referenciarlos explícitamente, se considerará plagio.\n",
    "\n",
    "Cualquier plagio o compartición de código que se detecte significará automáticamente la calificación de CERO EN LA ASIGNATURA para TODOS los alumnos involucrados. \n",
    "\n",
    "### Datos\n",
    "Para la realización de este trabajo se deberá usar el conjunto de datos [Fashion MNIST](https://github.com/zalandoresearch/fashion-mnist). Se trata de un conjunto de datos con imágenes de articulos de la tienda Zalando. Se compone de 60.000 muestras y un test de 10.000 muestras. Cada muestra es una imagen 28x28 en escala de grises asociada con una de las 10 posibles clases. Este conjunto de datos reemplaza al clásido MNIST para problemas de machine learning. \n",
    "\n",
    "<img src='fashion-mnist-sprite.png' width=50% />\n",
    "\n",
    "MNIST es el primer conjunto de datos que los investigadores suelen usar. Se dice que \"si no funciona con MNIST, no funcionará con nada\" y \"que funcione con MNIST no implica que funcione con otros\".\n",
    "\n",
    "Algunas de las razones por las que se quiere reemplazar al clásico MNIST:\n",
    "\n",
    "   - MNIST es muy fácil. Las redes convoucionales alcanzan un 99.7% de presición. Técnicas clásicas de machine learning pueden llegar al 97% fácilmente. En realidad, la mayoría de los dígitos de MNIST se pueden diferenciar bastante bien solamente usando un pixel.\n",
    "\n",
    "<img src='one_pixel.png' width=50% />\n",
    "  \n",
    "   - MNIST está sobreusado. En abril de 2007, investigadores de Google Brain e Ian Goodfellow sugirieron a los investigadores dejar de usar MNIST.\n",
    "   - MNIST no representa a las tareas actuales de visión artificial como dijo François Chollet (creador de Keras e investigador de Google).\n",
    "   \n",
    "<img src='chollet.png' width=50% />\n",
    "\n",
    "#### Lectura de los datos\n",
    "\n",
    "```\n",
    "import tensorflow as tf\n",
    "(x_train, y_train), (x_test, y_test) =  tf.keras.datasets.fashion_mnist.load_data()\n",
    "```\n",
    "\n",
    "\n",
    "## Objetivos\n",
    "Se pide crear una red neuronal para predecir la clase correspondiente de cada muestra.\n",
    "\n",
    "Se valorará:\n",
    "\n",
    "   - Las diferentes estructuras de redes probadas.\n",
    "   - El uso de diferentes técnicas de regularización.\n",
    "   - El uso de expansión de datos.\n",
    "   - Usar técnicas de fine-tuning o transfert learning.\n",
    "   \n",
    "#### Recursos\n",
    "\n",
    "Si algún grupo considera que no dispone de equipamiento suficiente para llevar a cabo este trabajo escribir un correo a dsolis@us.es. Se le proporcionará al grupo un cuenta en un servidor con GPU.\n",
    "\n",
    "## Tareas\n",
    "\n",
    "Para la realización de las tareas se podrá usar `keras`, `pandas` y `numpy`.\n",
    "\n",
    "\n",
    "## Entrega\n",
    "Se deberá entregar este archivo con las implementaciones realizadas y comentadas. Además, se pide que el alumno añada una sección final en la que comente los resultados obtenidos y los problemas encontrados a lo largo del desarrollo de la solución. \n",
    "\n",
    "Importante: No enviar el conjunto de datos, ni el modelo obtenido.\n",
    "\n",
    "**El plazo límite de entrega de la práctica es el 15 de Agosto de 2019.**\n",
    "\n",
    "\n",
    "## Dudas\n",
    "Para resolver cualquier duda contactar con David Solís (dsolis@us.es).\n",
    "\n",
    "**IMPORTANTE:** Recordad rellenar la cabecera de este fichero con vuestros nombres."
   ]
  },
  {
   "cell_type": "markdown",
   "metadata": {},
   "source": [
    "## Preparación de los datos\n",
    "\n",
    "El primer paso de todo modelado es la preparación y carga de los datos. En este caso se trata del problema Fashion MNIST.\n",
    "\n",
    "Los datos pueden cargarse haciendo uso de Tensorflow, que proporciona una instrucción directa para descargar las imágenes ya con formato unificado de 28x28 pixels en escala de grises, para lo cual se sigue la recomendación incluida en el enunciado:"
   ]
  },
  {
   "cell_type": "code",
   "execution_count": 1,
   "metadata": {},
   "outputs": [
    {
     "name": "stdout",
     "output_type": "stream",
     "text": [
      "Downloading data from https://storage.googleapis.com/tensorflow/tf-keras-datasets/train-labels-idx1-ubyte.gz\n",
      "32768/29515 [=================================] - 0s 1us/step\n",
      "Downloading data from https://storage.googleapis.com/tensorflow/tf-keras-datasets/train-images-idx3-ubyte.gz\n",
      "26427392/26421880 [==============================] - 13s 0us/step\n",
      "Downloading data from https://storage.googleapis.com/tensorflow/tf-keras-datasets/t10k-labels-idx1-ubyte.gz\n",
      "8192/5148 [===============================================] - 0s 0us/step\n",
      "Downloading data from https://storage.googleapis.com/tensorflow/tf-keras-datasets/t10k-images-idx3-ubyte.gz\n",
      "4423680/4422102 [==============================] - 2s 0us/step\n"
     ]
    }
   ],
   "source": [
    "import tensorflow as tf\n",
    "(x_train, y_train), (x_test, y_test) =  tf.keras.datasets.fashion_mnist.load_data()"
   ]
  },
  {
   "cell_type": "markdown",
   "metadata": {},
   "source": [
    "Se puede ver que el proceso de carga de datos separa, como ya se viera en los ejemplos de clase con MNIST, adecuadamente las diversas partes de que consta este dataset: (conjunto de entrenamiento, conjunto de test), y cada uno de estos conjuntos está formado por un conjunto de datos (imágenes, en este caso concreto), con sus respectivas salidas que son las etiquetas de clasificación (y_train, y_test). \n",
    "\n",
    "Para ver que la carga de ha realizado correctamente, y que la estructura de los datos se encuentra de la manera esperada, pueden utilizarse algunas instruccionesde Python ya conocidas como:"
   ]
  },
  {
   "cell_type": "code",
   "execution_count": 3,
   "metadata": {},
   "outputs": [
    {
     "data": {
      "text/plain": [
       "(60000, 28, 28)"
      ]
     },
     "execution_count": 3,
     "metadata": {},
     "output_type": "execute_result"
    }
   ],
   "source": [
    "x_train.shape"
   ]
  },
  {
   "cell_type": "code",
   "execution_count": 4,
   "metadata": {},
   "outputs": [
    {
     "data": {
      "text/plain": [
       "60000"
      ]
     },
     "execution_count": 4,
     "metadata": {},
     "output_type": "execute_result"
    }
   ],
   "source": [
    "len(y_train)"
   ]
  },
  {
   "cell_type": "code",
   "execution_count": 5,
   "metadata": {},
   "outputs": [
    {
     "data": {
      "text/plain": [
       "array([9, 0, 0, ..., 3, 0, 5], dtype=uint8)"
      ]
     },
     "execution_count": 5,
     "metadata": {},
     "output_type": "execute_result"
    }
   ],
   "source": [
    "y_train"
   ]
  },
  {
   "cell_type": "code",
   "execution_count": 6,
   "metadata": {},
   "outputs": [
    {
     "data": {
      "text/plain": [
       "(10000, 28, 28)"
      ]
     },
     "execution_count": 6,
     "metadata": {},
     "output_type": "execute_result"
    }
   ],
   "source": [
    "x_test.shape"
   ]
  },
  {
   "cell_type": "code",
   "execution_count": 7,
   "metadata": {},
   "outputs": [
    {
     "data": {
      "text/plain": [
       "10000"
      ]
     },
     "execution_count": 7,
     "metadata": {},
     "output_type": "execute_result"
    }
   ],
   "source": [
    "len(y_test)"
   ]
  },
  {
   "cell_type": "code",
   "execution_count": 8,
   "metadata": {},
   "outputs": [
    {
     "data": {
      "text/plain": [
       "array([9, 2, 1, ..., 8, 1, 5], dtype=uint8)"
      ]
     },
     "execution_count": 8,
     "metadata": {},
     "output_type": "execute_result"
    }
   ],
   "source": [
    "y_test"
   ]
  },
  {
   "cell_type": "markdown",
   "metadata": {},
   "source": [
    "Puede resultar interesante ver una pequeña muestra gráfica de las imágenes que hemos cargado en nuestro dataset. Para ello se puede hacer uso de la librería matplotlib. "
   ]
  },
  {
   "cell_type": "code",
   "execution_count": 11,
   "metadata": {},
   "outputs": [
    {
     "data": {
      "image/png": "[encoded data removed]",
      "text/plain": [
       "<Figure size 432x288 with 1 Axes>"
      ]
     },
     "metadata": {
      "needs_background": "light"
     },
     "output_type": "display_data"
    },
    {
     "data": {
      "image/png": "[encoded data removed]",
      "text/plain": [
       "<Figure size 432x288 with 1 Axes>"
      ]
     },
     "metadata": {
      "needs_background": "light"
     },
     "output_type": "display_data"
    },
    {
     "data": {
      "image/png": "[encoded data removed]",
      "text/plain": [
       "<Figure size 432x288 with 1 Axes>"
      ]
     },
     "metadata": {
      "needs_background": "light"
     },
     "output_type": "display_data"
    }
   ],
   "source": [
    "import matplotlib\n",
    "%matplotlib inline\n",
    "from matplotlib import pyplot as plt\n",
    "import numpy as np\n",
    "\n",
    "def gen_image(arr):\n",
    "    conv = (np.reshape(arr, (28, 28)) * 255).astype(np.uint8)\n",
    "    plt.imshow(conv, interpolation='nearest')\n",
    "    return plt\n",
    "\n",
    "gen_image(x_test[0]).show()\n",
    "gen_image(x_test[4]).show()\n",
    "gen_image(x_test[888]).show()"
   ]
  },
  {
   "cell_type": "markdown",
   "metadata": {},
   "source": [
    "Lo visto hasta ahora nos puede servir como pequeña introducción y para hacernos una idea de los datos con los que vamos a trabajar. Es el momento de pasar a la siguiente fase y empezar con la construcción de modelos que nos permitan clasificar las imágenes de que disponemos.\n",
    "\n",
    "El flujo de trabajo a seguir será el habitual en casos de Machine Learning Supervisado:\n",
    "\n",
    "    1. Se le pasan al modelo (una red neuronal, en nuestro caso) los datos de entrenamiento: x_train, y_train.\n",
    "    \n",
    "    \n",
    "    2. El modelo deberá aprender a asociar las imágenes con las etiquetas correspondientes.\n",
    "    \n",
    "    3. Se comprueba la bondad del modelo sobre los datos reservados para el test (x_test), viendo si las respuestas dadas  por el modelo (predicciones) coinciden con las almacenadas en y_test."
   ]
  },
  {
   "cell_type": "markdown",
   "metadata": {},
   "source": [
    "## Construcción de diversas estructuras de redes\n",
    "\n",
    "### RN básica\n",
    "\n",
    "Como primera aproximación al problema planteado, y con vistas a obtener un punto de partida en nuestro análisis, se opta por el uso de una Red Neuronal muy básica, con una única capa de entrada y otra de salida. \n",
    "\n",
    "Se va a situar una capa de entrada con 784 (= 28 * 28) neuronas (que recibirán cada uno de los 784 pixels de cada imagen), con función de activación ReLU, y una capa de salida con 10 neuronas (una neurona para cada una de las posibles etiquetas de salida), y con activación softmax (por lo que se podrá interpretar como una probabilidad de salida que indica lo probable que es que la imagen de entrada tenga cada una de las etiquetas como salida).\n",
    "\n",
    "El primer paso es cargar la librería keras que permitirá interactuar a Python con la librería de Deep Learning que usemos (en este caso particular, Tensorflow)."
   ]
  },
  {
   "cell_type": "code",
   "execution_count": 13,
   "metadata": {},
   "outputs": [
    {
     "name": "stdout",
     "output_type": "stream",
     "text": [
      "2.2.4\n",
      "[name: \"/device:CPU:0\"\n",
      "device_type: \"CPU\"\n",
      "memory_limit: 268435456\n",
      "locality {\n",
      "}\n",
      "incarnation: 2987581036816600698\n",
      "]\n"
     ]
    }
   ],
   "source": [
    "import keras\n",
    "print(keras.__version__)\n",
    "from tensorflow.python.client import device_lib\n",
    "print(device_lib.list_local_devices())"
   ]
  },
  {
   "cell_type": "markdown",
   "metadata": {},
   "source": [
    "Como segundo paso se procede a la creación de nuestra RN básica."
   ]
  },
  {
   "cell_type": "code",
   "execution_count": 14,
   "metadata": {},
   "outputs": [],
   "source": [
    "from keras import models\n",
    "from keras import layers\n",
    "#from keras.utils.vis_utils import plot_model\n",
    "\n",
    "red = models.Sequential()\n",
    "red.add(layers.Dense(512, activation='relu', input_shape=(28 * 28,)))\n",
    "red.add(layers.Dense(10, activation='softmax'))"
   ]
  },
  {
   "cell_type": "markdown",
   "metadata": {},
   "source": [
    "En el caso de la red que hemos definido, este dispositivo consta de una secuencia de dos capas densas, que son capas neurales totalmente conectadas. La segunda (y última) capa es una capa \"softmax\" de 10 salidas, lo que significa que devolverá un vector probabilístico de 10 valores (es decir, 10 valores en  [0,1]  que suman 1). Cada uno de estos valores se interpretará la probabilidad de que la imagen actual pertenezca a una de las 10 clases (los dígitos del 0 al 9).\n",
    "\n",
    "Hasta ahora solo hemos definido la estructura de la red, pero no hemos dado ninguna información acerca de cómo se llevará a cabo el entrenamiento. Para ello, hemos de indicarle a Keras algunas características adicionales, tales como el optimizador que permitirá modificar los pesos de la red, qué función objetivo (de error) se usará para dirigir esta optimización, y la métrica que usaremos para medir cómo se va comportando la red a medida que se entrena.\n",
    "\n",
    "Keras proporciona la función compile que permite establecer estas (y otras) propiedades sobre una red ya definida:"
   ]
  },
  {
   "cell_type": "code",
   "execution_count": 15,
   "metadata": {},
   "outputs": [],
   "source": [
    "red.compile(optimizer='rmsprop',\n",
    "                loss='categorical_crossentropy',\n",
    "                metrics=['accuracy'])"
   ]
  },
  {
   "cell_type": "markdown",
   "metadata": {},
   "source": [
    "Debido a que la red neuronal que vamos a usar debe recibir como dato de entrada cada imagen de forma aplanada (es decir, no como una matriz de 28x28, sino como un vector de 28x28=784 posiciones), nuestro primer paso es hacer uso de las instrucciones que proporciona Keras para transformar la forma de los datos de entrada. Además, aprovecharemos para normalizar el contenido de estas imágenes (están en escalas de grises con valores uint8 entre 0 y 255, y las pasaremos a valores float32 en  [0,1] ), algo aconsejable cuando se trabaja con este tipo de modelos:"
   ]
  },
  {
   "cell_type": "code",
   "execution_count": 16,
   "metadata": {},
   "outputs": [],
   "source": [
    "x_train = x_train.reshape((60000, 28 * 28)) ## aplanar las imágenes\n",
    "x_train = x_train.astype('float32') / 255\n",
    "\n",
    "x_test = x_test.reshape((10000, 28 * 28))\n",
    "x_test = x_test.astype('float32') / 255"
   ]
  },
  {
   "cell_type": "markdown",
   "metadata": {},
   "source": [
    "Además, vamos a convertir las etiquetas (que vienen en el dataset como valores enteros), en vectores binarios para que se correspondan con la salida que nuestra red puede proporcionar:"
   ]
  },
  {
   "cell_type": "code",
   "execution_count": 17,
   "metadata": {},
   "outputs": [],
   "source": [
    "from keras.utils import to_categorical\n",
    "\n",
    "y_train = to_categorical(y_train)\n",
    "y_test = to_categorical(y_test)"
   ]
  },
  {
   "cell_type": "markdown",
   "metadata": {},
   "source": [
    "Preparados los datos y definida la red (estructura y funcionalidad), podemos hacer uso de la instrucción fit para comenzar el proceso de entrenamiento sobre los datos que tenemos. Esencialmente, hemos de indicar sobre qué datos entrenar (entrada y salidas), cuántas iteraciones (epochs) y con qué tamaño de batch (cada cuántos ejemplos el algoritmos actualiza los pesos).\n",
    "\n",
    "Durante el proceso de entrenamiento, Keras informa de los valores que toma la función objetivo, así como de la/s métrica/s que hemos fijado en la compilación."
   ]
  },
  {
   "cell_type": "code",
   "execution_count": 18,
   "metadata": {},
   "outputs": [
    {
     "name": "stdout",
     "output_type": "stream",
     "text": [
      "WARNING:tensorflow:From C:\\ProgramData\\Anaconda3\\lib\\site-packages\\tensorflow\\python\\ops\\math_ops.py:3066: to_int32 (from tensorflow.python.ops.math_ops) is deprecated and will be removed in a future version.\n",
      "Instructions for updating:\n",
      "Use tf.cast instead.\n",
      "Epoch 1/5\n",
      "60000/60000 [==============================] - 7s 124us/step - loss: 0.5559 - acc: 0.8006\n",
      "Epoch 2/5\n",
      "60000/60000 [==============================] - 7s 117us/step - loss: 0.3791 - acc: 0.8614 1s - loss:\n",
      "Epoch 3/5\n",
      "60000/60000 [==============================] - 7s 123us/step - loss: 0.3356 - acc: 0.8768\n",
      "Epoch 4/5\n",
      "60000/60000 [==============================] - 7s 124us/step - loss: 0.3098 - acc: 0.8859\n",
      "Epoch 5/5\n",
      "60000/60000 [==============================] - 7s 119us/step - loss: 0.2915 - acc: 0.8924 \n"
     ]
    },
    {
     "data": {
      "text/plain": [
       "<keras.callbacks.History at 0x2346e600588>"
      ]
     },
     "execution_count": 18,
     "metadata": {},
     "output_type": "execute_result"
    }
   ],
   "source": [
    "red.fit(x_train, y_train, epochs=5, batch_size = 128)"
   ]
  },
  {
   "cell_type": "markdown",
   "metadata": {},
   "source": [
    "Debemos tener en cuenta que los valores mostrados son el error y métricas calculados sobre los propios datos de entrenamiento. Sin embargo, como el objetivo de un modelo de aprendizaje es generalizar bien sobre datos que el proceso de entrenamiento no ha visto anteriormente, necesitamos el conjunto de test para evaluar cómo se comporta la red sobre ejemplos que no ha usado para ajustarse.\n",
    "\n",
    "Sobre los datos de entrenamiento alcanzamos rápidamente una precisión de 0.989 (i.e. 98.9%), pero veamos cómo de bien se comporta con los datos de test (que no ha usado para aprender):"
   ]
  },
  {
   "cell_type": "code",
   "execution_count": 19,
   "metadata": {},
   "outputs": [
    {
     "name": "stdout",
     "output_type": "stream",
     "text": [
      "10000/10000 [==============================] - 1s 60us/step\n"
     ]
    }
   ],
   "source": [
    "test_loss, test_acc = red.evaluate(x_test, y_test)"
   ]
  },
  {
   "cell_type": "code",
   "execution_count": 20,
   "metadata": {},
   "outputs": [
    {
     "name": "stdout",
     "output_type": "stream",
     "text": [
      "test_acc: 0.8724\n"
     ]
    }
   ],
   "source": [
    "print('test_acc:', test_acc)"
   ]
  },
  {
   "cell_type": "markdown",
   "metadata": {},
   "source": [
    "Lo normal es que la red se comporte peor en los datos de test que en los datos de entrenamiento, ya que el proceso de entrenamiento consiste precisamente en ajustar los pesos para que el error cometido en estos últimos se minimice. Esta diferencia de comportamiento entre entrenamiento y test se denomina overfitting (o sobreajuste). En todo caso, con una red tan simple como la que hemos usado se alcanzan cotas de casi el 98% de aciertos.\n",
    "\n",
    "Finalmente, podemos ver las predicciones que hace la red sobre algunos datos del conjunto de test (mostramos también las etiquetas aaociadas a los datos usados, pero ten en cuenta que están en formato binarizado, y el índice 1 corresponde a la etiqueta 0, el índice 2 a la etiqueta 1, etc...):"
   ]
  },
  {
   "cell_type": "code",
   "execution_count": 21,
   "metadata": {},
   "outputs": [
    {
     "data": {
      "text/plain": [
       "1"
      ]
     },
     "execution_count": 21,
     "metadata": {},
     "output_type": "execute_result"
    }
   ],
   "source": [
    "np.argmax(red.predict(x_test[2:8]))"
   ]
  },
  {
   "cell_type": "code",
   "execution_count": 22,
   "metadata": {},
   "outputs": [
    {
     "data": {
      "text/plain": [
       "array([[0., 1., 0., 0., 0., 0., 0., 0., 0., 0.],\n",
       "       [0., 1., 0., 0., 0., 0., 0., 0., 0., 0.],\n",
       "       [0., 0., 0., 0., 0., 0., 1., 0., 0., 0.],\n",
       "       [0., 1., 0., 0., 0., 0., 0., 0., 0., 0.],\n",
       "       [0., 0., 0., 0., 1., 0., 0., 0., 0., 0.],\n",
       "       [0., 0., 0., 0., 0., 0., 1., 0., 0., 0.]], dtype=float32)"
      ]
     },
     "execution_count": 22,
     "metadata": {},
     "output_type": "execute_result"
    }
   ],
   "source": [
    "y_test[2:8]"
   ]
  },
  {
   "cell_type": "code",
   "execution_count": null,
   "metadata": {},
   "outputs": [],
   "source": []
  }
 ],
 "metadata": {
  "anaconda-cloud": {},
  "kernelspec": {
   "display_name": "Python 3",
   "language": "python",
   "name": "python3"
  },
  "language_info": {
   "codemirror_mode": {
    "name": "ipython",
    "version": 3
   },
   "file_extension": ".py",
   "mimetype": "text/x-python",
   "name": "python",
   "nbconvert_exporter": "python",
   "pygments_lexer": "ipython3",
   "version": "3.7.3"
  }
 },
 "nbformat": 4,
 "nbformat_minor": 2
}
